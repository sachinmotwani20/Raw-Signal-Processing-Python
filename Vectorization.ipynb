{
  "nbformat": 4,
  "nbformat_minor": 0,
  "metadata": {
    "colab": {
      "name": "Vectorization",
      "provenance": [],
      "collapsed_sections": [],
      "include_colab_link": true
    },
    "kernelspec": {
      "name": "python3",
      "display_name": "Python 3"
    }
  },
  "cells": [
    {
      "cell_type": "markdown",
      "metadata": {
        "id": "view-in-github",
        "colab_type": "text"
      },
      "source": [
        "<a href=\"https://colab.research.google.com/github/sachinmotwani20/Raw-Signal-Processing-Python/blob/master/Vectorization.ipynb\" target=\"_parent\"><img src=\"https://colab.research.google.com/assets/colab-badge.svg\" alt=\"Open In Colab\"/></a>"
      ]
    },
    {
      "cell_type": "markdown",
      "metadata": {
        "id": "a8BiV7C2cm8k",
        "colab_type": "text"
      },
      "source": [
        "#Vectorization"
      ]
    },
    {
      "cell_type": "code",
      "metadata": {
        "id": "W8R5P31jaQTJ",
        "colab_type": "code",
        "colab": {}
      },
      "source": [
        "import numpy as np\n",
        "import time"
      ],
      "execution_count": 0,
      "outputs": []
    },
    {
      "cell_type": "code",
      "metadata": {
        "id": "wJeakD3-akZs",
        "colab_type": "code",
        "colab": {
          "base_uri": "https://localhost:8080/",
          "height": 91
        },
        "outputId": "aca0363d-2b57-479b-c98c-3188b354ed88"
      },
      "source": [
        "a = np.random.rand(1000000)\n",
        "b = np.random.rand(1000000)\n",
        "\n",
        "#Calculating fot product using inbuilt functions\n",
        "tic = time.time()\n",
        "c = np.dot(a, b)\n",
        "toc = time.time()\n",
        "print(c)\n",
        "print (\"Vectorized Version (Inbuilt Function): \" + str(1000*(toc-tic))+\"ms\" )\n",
        "\n",
        "#Calculatuing using for loop\n",
        "c=0\n",
        "tic = time.time()\n",
        "for i in range (1000000):\n",
        "  c += a[i]*b[i]\n",
        "toc = time.time()\n",
        "print (c)\n",
        "print (\"Non-Vectorized Version (For Loop): \"+ str(1000*(toc-tic)) + \"ms\")"
      ],
      "execution_count": 6,
      "outputs": [
        {
          "output_type": "stream",
          "text": [
            "249804.06765829725\n",
            "Vectorized Version (Inbuilt Function): 1.3289451599121094ms\n",
            "249804.0676583024\n",
            "Non-Vectorized Version (For Loop): 623.0807304382324ms\n"
          ],
          "name": "stdout"
        }
      ]
    },
    {
      "cell_type": "markdown",
      "metadata": {
        "id": "2RUkU_bOcUJV",
        "colab_type": "text"
      },
      "source": [
        "We can see huge difference in value calculation using for loop & using inbuilt functions. This is called Vectorization: The avoiding of explicit for loop as much as possible."
      ]
    },
    {
      "cell_type": "code",
      "metadata": {
        "id": "XVhnT9Gaay6b",
        "colab_type": "code",
        "colab": {}
      },
      "source": [
        ""
      ],
      "execution_count": 0,
      "outputs": []
    }
  ]
}